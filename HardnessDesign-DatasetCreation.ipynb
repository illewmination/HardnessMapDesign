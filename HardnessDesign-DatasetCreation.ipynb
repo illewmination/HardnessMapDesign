{
 "cells": [
  {
   "cell_type": "code",
   "execution_count": 13,
   "id": "charged-productivity",
   "metadata": {},
   "outputs": [
    {
     "name": "stdout",
     "output_type": "stream",
     "text": [
      "2.3.0\n",
      "Num GPUs Available:  1\n"
     ]
    }
   ],
   "source": [
    "#Import Packages\n",
    "\n",
    "from typing import Iterator, List, Union, Tuple\n",
    "from datetime import datetime\n",
    "from time import strftime\n",
    "from sklearn.model_selection import train_test_split\n",
    "from PIL import Image\n",
    "import pandas as pd\n",
    "import matplotlib.pyplot as plt\n",
    "import seaborn as sns\n",
    "import numpy as np\n",
    "import os\n",
    "\n",
    "import tensorflow as tf\n",
    "import tensorflow.keras as keras\n",
    "import tensorflow_addons as tfa\n",
    "from tensorflow.keras.callbacks import TensorBoard, EarlyStopping, ModelCheckpoint, History\n",
    "from tensorflow.keras.preprocessing import image\n",
    "from tensorflow.keras.preprocessing.image import ImageDataGenerator\n",
    "from tensorflow.keras import layers, models, Model\n",
    "from tensorflow.keras.models import Sequential\n",
    "from tensorflow.keras.losses import MeanSquaredError, MeanAbsoluteError, MeanAbsolutePercentageError\n",
    "from tensorflow.keras.applications import EfficientNetB0\n",
    "from tensorflow.keras.utils import plot_model\n",
    "\n",
    "print(tf.__version__)\n",
    "print(\"Num GPUs Available: \", len(tf.config.list_physical_devices('GPU')))"
   ]
  },
  {
   "cell_type": "code",
   "execution_count": 14,
   "id": "7856c91a",
   "metadata": {},
   "outputs": [
    {
     "name": "stdout",
     "output_type": "stream",
     "text": [
      "    sample  hardness               image_location\n",
      "0        1  4.127870   ./Sliced/images/HIC_02.png\n",
      "1        2  4.465772   ./Sliced/images/HIC_03.png\n",
      "2        3  4.414998   ./Sliced/images/HIC_04.png\n",
      "3        4  4.531602   ./Sliced/images/HIC_05.png\n",
      "4        5  5.369055   ./Sliced/images/HIC_06.png\n",
      "..     ...       ...                          ...\n",
      "89      90  4.793245  ./Sliced/images/HIC_134.png\n",
      "90      91  2.992398  ./Sliced/images/HIC_135.png\n",
      "91      92  4.198116  ./Sliced/images/HIC_136.png\n",
      "92      93  3.601752  ./Sliced/images/HIC_138.png\n",
      "93      94  4.205570  ./Sliced/images/HIC_139.png\n",
      "\n",
      "[94 rows x 3 columns]\n",
      "     sample  hardness                     image_location\n",
      "0         1       2.5  ./testdata_0425/images/2.5_01.png\n",
      "1         2       2.5  ./testdata_0425/images/2.5_02.png\n",
      "2         3       2.5  ./testdata_0425/images/2.5_03.png\n",
      "3         4       2.5  ./testdata_0425/images/2.5_04.png\n",
      "4         5       2.5  ./testdata_0425/images/2.5_05.png\n",
      "..      ...       ...                                ...\n",
      "328     329       6.1  ./testdata_0425/images/6.1_21.png\n",
      "329     330       6.1  ./testdata_0425/images/6.1_22.png\n",
      "330     331       6.1  ./testdata_0425/images/6.1_23.png\n",
      "331     332       6.1  ./testdata_0425/images/6.1_24.png\n",
      "332     333       6.1  ./testdata_0425/images/6.1_25.png\n",
      "\n",
      "[333 rows x 3 columns]\n"
     ]
    },
    {
     "name": "stderr",
     "output_type": "stream",
     "text": [
      "C:\\Users\\illew\\anaconda3\\envs\\tf-gpu-hardness\\lib\\site-packages\\pandas\\core\\series.py:1056: SettingWithCopyWarning: \n",
      "A value is trying to be set on a copy of a slice from a DataFrame\n",
      "\n",
      "See the caveats in the documentation: https://pandas.pydata.org/pandas-docs/stable/user_guide/indexing.html#returning-a-view-versus-a-copy\n",
      "  cacher_needs_updating = self._check_is_chained_assignment_possible()\n",
      "C:\\Users\\illew\\anaconda3\\envs\\tf-gpu-hardness\\lib\\site-packages\\pandas\\core\\indexing.py:1724: SettingWithCopyWarning: \n",
      "A value is trying to be set on a copy of a slice from a DataFrame\n",
      "\n",
      "See the caveats in the documentation: https://pandas.pydata.org/pandas-docs/stable/user_guide/indexing.html#returning-a-view-versus-a-copy\n",
      "  self._setitem_with_indexer_missing(indexer, value)\n"
     ]
    },
    {
     "name": "stdout",
     "output_type": "stream",
     "text": [
      "    sample  hardness                           image_location\n",
      "0        0  4.298459     ./Augmented_Images_StdSize_PNG/0.png\n",
      "1        1  3.651776     ./Augmented_Images_StdSize_PNG/1.png\n",
      "2        2  5.292030     ./Augmented_Images_StdSize_PNG/2.png\n",
      "3        3  5.529775     ./Augmented_Images_StdSize_PNG/3.png\n",
      "4        4  5.152281     ./Augmented_Images_StdSize_PNG/4.png\n",
      "..     ...       ...                                      ...\n",
      "6        6  3.217727  ./Augmented_Images_StdSize_PNG/1995.png\n",
      "7        7  3.510048  ./Augmented_Images_StdSize_PNG/1996.png\n",
      "8        8  3.195983  ./Augmented_Images_StdSize_PNG/1997.png\n",
      "9        9  3.782275  ./Augmented_Images_StdSize_PNG/1998.png\n",
      "10      10  2.991410  ./Augmented_Images_StdSize_PNG/1999.png\n",
      "\n",
      "[10000 rows x 3 columns]\n",
      "     sample  hardness                        image_location\n",
      "0         0  4.298459  ./Augmented_Images_StdSize_PNG/0.png\n",
      "1         1  3.651776  ./Augmented_Images_StdSize_PNG/1.png\n",
      "2         2  5.292030  ./Augmented_Images_StdSize_PNG/2.png\n",
      "3         3  5.529775  ./Augmented_Images_StdSize_PNG/3.png\n",
      "4         4  5.152281  ./Augmented_Images_StdSize_PNG/4.png\n",
      "..      ...       ...                                   ...\n",
      "328     329  6.100000     ./testdata_0425/images/6.1_21.png\n",
      "329     330  6.100000     ./testdata_0425/images/6.1_22.png\n",
      "330     331  6.100000     ./testdata_0425/images/6.1_23.png\n",
      "331     332  6.100000     ./testdata_0425/images/6.1_24.png\n",
      "332     333  6.100000     ./testdata_0425/images/6.1_25.png\n",
      "\n",
      "[22730 rows x 3 columns]\n",
      "03_11_15_55\n"
     ]
    }
   ],
   "source": [
    "#Load in Data\n",
    "\n",
    "#Images from precise measured places\n",
    "df1=pd.read_csv(\"./20210602_mapping_key_filt_MIN.csv\", encoding='utf-8') \n",
    "print(df1)\n",
    "\n",
    "#Images from general average measurement\n",
    "df2=pd.read_csv(\"./testdatakey_0425.csv\", encoding='utf-8') \n",
    "df2_imagedirectory=\"./testdata_0425/images\"\n",
    "df2_imagelocation=[]\n",
    "df2_hardnessarray=[]\n",
    "for filename in os.listdir(df2_imagedirectory):\n",
    "    df2_imagelocation.append(df2_imagedirectory+\"/\"+str(filename))\n",
    "    hardness_value=filename.split(\"_\")[0]\n",
    "    df2_hardnessarray.append(float(hardness_value))\n",
    "df2[\"hardness\"]=df2_hardnessarray\n",
    "df2[\"image_location\"]=df2_imagelocation\n",
    "print(df2)\n",
    "\n",
    "#Images from noisy measurement\n",
    "df3_temp=pd.read_csv(\"./Augmented_Images_key.csv\", encoding='utf-8') \n",
    "df3_imagedirectory = './Augmented_Images_StdSize_PNG/'\n",
    "imgs_augmented = []\n",
    "data_augmented = []\n",
    "\n",
    "hrr=5 #3 #Sampling Repetitions\n",
    "for sampling_reps in range(hrr): #loop through all data to get 'hrr' hardnesses per image \n",
    "    original_num = df3_temp.shape[0]\n",
    "    sample_size = 2000\n",
    "    for i in range(sample_size):\n",
    "        entry = df3_temp.iloc[i%original_num] #sample identity that augmented image is from\n",
    "        img_temp = np.array(Image.open(df3_imagedirectory+str(i)+'.png'))\n",
    "        imgs_augmented.append(img_temp)\n",
    "        #Add it with the proper label to data_augmented\n",
    "        entry['hardness'] = np.random.normal(loc=entry['H (GPa)'], scale=entry['H error'])\n",
    "        entry['image_location'] = df3_imagedirectory+str(i)+'.png'\n",
    "        data_augmented.append(entry)\n",
    "    \n",
    "imgs_augmented = np.asarray(imgs_augmented)\n",
    "data_augmented = pd.DataFrame(data=data_augmented)\n",
    "data_augmented['sample'] = data_augmented.index\n",
    "df3 = data_augmented[['sample','hardness', 'image_location']].copy()\n",
    "print(df3)\n",
    "\n",
    "#Collate all data\n",
    "one_reps = 100\n",
    "two_reps = 10\n",
    "df = df3\n",
    "for i in range(one_reps):\n",
    "    df = df.append(df1)\n",
    "for j in range(two_reps):\n",
    "    df = df.append(df2)\n",
    "print(df)\n",
    "\n",
    "stamp = strftime(\"%m_%d_%H_%M\")\n",
    "print(stamp)\n",
    "df.to_csv('Dataset_Collated_'+stamp+'.csv', index=False)"
   ]
  },
  {
   "cell_type": "code",
   "execution_count": 15,
   "id": "d12f8a3b",
   "metadata": {},
   "outputs": [
    {
     "data": {
      "text/plain": [
       "(array([  2.,   1.,   1.,   0.,   1.,   4., 256.,   5., 261.,  16., 279.,\n",
       "         28., 243., 286.,  64., 411.,  66., 199., 213., 101., 128., 140.,\n",
       "        258., 186., 159., 185., 179., 280., 258., 277., 386., 359., 270.,\n",
       "        158., 138., 113., 339., 218., 240., 418., 123., 224., 558., 693.,\n",
       "        274., 479., 470., 370., 451., 250., 458., 151., 341., 338., 241.,\n",
       "        443., 926., 348., 458., 386., 384., 276., 212., 217., 245., 160.,\n",
       "        392., 375., 282., 218., 379., 347., 460., 231., 409., 258., 470.,\n",
       "        196., 210., 372., 161., 351., 153., 106., 102.,  97.,  84.,  67.,\n",
       "        289.,  45.,  20.,  12.,  13.,   7.,   9.,   6.,   1.,   2.,   1.,\n",
       "          3.]),\n",
       " array([2.22749575, 2.27133971, 2.31518368, 2.35902765, 2.40287161,\n",
       "        2.44671558, 2.49055955, 2.53440351, 2.57824748, 2.62209144,\n",
       "        2.66593541, 2.70977938, 2.75362334, 2.79746731, 2.84131127,\n",
       "        2.88515524, 2.92899921, 2.97284317, 3.01668714, 3.0605311 ,\n",
       "        3.10437507, 3.14821904, 3.192063  , 3.23590697, 3.27975093,\n",
       "        3.3235949 , 3.36743887, 3.41128283, 3.4551268 , 3.49897076,\n",
       "        3.54281473, 3.5866587 , 3.63050266, 3.67434663, 3.7181906 ,\n",
       "        3.76203456, 3.80587853, 3.84972249, 3.89356646, 3.93741043,\n",
       "        3.98125439, 4.02509836, 4.06894232, 4.11278629, 4.15663026,\n",
       "        4.20047422, 4.24431819, 4.28816215, 4.33200612, 4.37585009,\n",
       "        4.41969405, 4.46353802, 4.50738198, 4.55122595, 4.59506992,\n",
       "        4.63891388, 4.68275785, 4.72660182, 4.77044578, 4.81428975,\n",
       "        4.85813371, 4.90197768, 4.94582165, 4.98966561, 5.03350958,\n",
       "        5.07735354, 5.12119751, 5.16504148, 5.20888544, 5.25272941,\n",
       "        5.29657337, 5.34041734, 5.38426131, 5.42810527, 5.47194924,\n",
       "        5.5157932 , 5.55963717, 5.60348114, 5.6473251 , 5.69116907,\n",
       "        5.73501303, 5.778857  , 5.82270097, 5.86654493, 5.9103889 ,\n",
       "        5.95423287, 5.99807683, 6.0419208 , 6.08576476, 6.12960873,\n",
       "        6.1734527 , 6.21729666, 6.26114063, 6.30498459, 6.34882856,\n",
       "        6.39267253, 6.43651649, 6.48036046, 6.52420442, 6.56804839,\n",
       "        6.61189236]),\n",
       " <BarContainer object of 100 artists>)"
      ]
     },
     "execution_count": 15,
     "metadata": {},
     "output_type": "execute_result"
    },
    {
     "data": {
      "image/png": "[encoded data removed]",
      "text/plain": [
       "<Figure size 432x288 with 1 Axes>"
      ]
     },
     "metadata": {
      "needs_background": "light"
     },
     "output_type": "display_data"
    }
   ],
   "source": [
    "plt.hist(df[\"hardness\"], 100)"
   ]
  },
  {
   "cell_type": "code",
   "execution_count": 16,
   "id": "9972abf2",
   "metadata": {},
   "outputs": [
    {
     "name": "stdout",
     "output_type": "stream",
     "text": [
      "       sample  hardness                        image_location\n",
      "0           0  4.298459  ./Augmented_Images_StdSize_PNG/0.png\n",
      "1           1  3.651776  ./Augmented_Images_StdSize_PNG/1.png\n",
      "2           2  5.292030  ./Augmented_Images_StdSize_PNG/2.png\n",
      "3           3  5.529775  ./Augmented_Images_StdSize_PNG/3.png\n",
      "4           4  5.152281  ./Augmented_Images_StdSize_PNG/4.png\n",
      "...       ...       ...                                   ...\n",
      "22725     329  6.100000     ./testdata_0425/images/6.1_21.png\n",
      "22726     330  6.100000     ./testdata_0425/images/6.1_22.png\n",
      "22727     331  6.100000     ./testdata_0425/images/6.1_23.png\n",
      "22728     332  6.100000     ./testdata_0425/images/6.1_24.png\n",
      "22729     333  6.100000     ./testdata_0425/images/6.1_25.png\n",
      "\n",
      "[22730 rows x 3 columns]\n"
     ]
    },
    {
     "data": {
      "text/plain": [
       "(array([  2.,   1.,   1.,   0.,   1.,   4., 256.,   5., 261.,  16., 279.,\n",
       "         28., 243., 286.,  64., 411.,  66., 199., 213., 101., 128., 140.,\n",
       "        258., 186., 159., 185., 179., 280., 258., 277., 386., 359., 270.,\n",
       "        158., 138., 113., 339., 218., 240., 418., 123., 224., 558., 693.,\n",
       "        274., 479., 470., 370., 451., 250., 458., 151., 341., 338., 241.,\n",
       "        443., 926., 348., 458., 386., 384., 276., 212., 217., 245., 160.,\n",
       "        392., 375., 282., 218., 379., 347., 460., 231., 409., 258., 470.,\n",
       "        196., 210., 372., 161., 351., 153., 106., 102.,  97.,  84.,  67.,\n",
       "        289.,  45.,  20.,  12.,  13.,   7.,   9.,   6.,   1.,   2.,   1.,\n",
       "          3.]),\n",
       " array([2.22749575, 2.27133971, 2.31518368, 2.35902765, 2.40287161,\n",
       "        2.44671558, 2.49055955, 2.53440351, 2.57824748, 2.62209144,\n",
       "        2.66593541, 2.70977938, 2.75362334, 2.79746731, 2.84131127,\n",
       "        2.88515524, 2.92899921, 2.97284317, 3.01668714, 3.0605311 ,\n",
       "        3.10437507, 3.14821904, 3.192063  , 3.23590697, 3.27975093,\n",
       "        3.3235949 , 3.36743887, 3.41128283, 3.4551268 , 3.49897076,\n",
       "        3.54281473, 3.5866587 , 3.63050266, 3.67434663, 3.7181906 ,\n",
       "        3.76203456, 3.80587853, 3.84972249, 3.89356646, 3.93741043,\n",
       "        3.98125439, 4.02509836, 4.06894232, 4.11278629, 4.15663026,\n",
       "        4.20047422, 4.24431819, 4.28816215, 4.33200612, 4.37585009,\n",
       "        4.41969405, 4.46353802, 4.50738198, 4.55122595, 4.59506992,\n",
       "        4.63891388, 4.68275785, 4.72660182, 4.77044578, 4.81428975,\n",
       "        4.85813371, 4.90197768, 4.94582165, 4.98966561, 5.03350958,\n",
       "        5.07735354, 5.12119751, 5.16504148, 5.20888544, 5.25272941,\n",
       "        5.29657337, 5.34041734, 5.38426131, 5.42810527, 5.47194924,\n",
       "        5.5157932 , 5.55963717, 5.60348114, 5.6473251 , 5.69116907,\n",
       "        5.73501303, 5.778857  , 5.82270097, 5.86654493, 5.9103889 ,\n",
       "        5.95423287, 5.99807683, 6.0419208 , 6.08576476, 6.12960873,\n",
       "        6.1734527 , 6.21729666, 6.26114063, 6.30498459, 6.34882856,\n",
       "        6.39267253, 6.43651649, 6.48036046, 6.52420442, 6.56804839,\n",
       "        6.61189236]),\n",
       " <BarContainer object of 100 artists>)"
      ]
     },
     "execution_count": 16,
     "metadata": {},
     "output_type": "execute_result"
    },
    {
     "data": {
      "image/png": "[encoded data removed]",
      "text/plain": [
       "<Figure size 432x288 with 1 Axes>"
      ]
     },
     "metadata": {
      "needs_background": "light"
     },
     "output_type": "display_data"
    }
   ],
   "source": [
    "#Load Dataset\n",
    "df_load = pd.read_csv ('Dataset_Collated_'+stamp+'.csv')\n",
    "print(df_load)\n",
    "\n",
    "#Visualize Data Labels\n",
    "plt.hist(df_load[\"hardness\"], 100)"
   ]
  },
  {
   "cell_type": "code",
   "execution_count": null,
   "id": "6f52f79f",
   "metadata": {},
   "outputs": [],
   "source": [
    "#end"
   ]
  },
  {
   "cell_type": "code",
   "execution_count": 1,
   "id": "c5d1d48a",
   "metadata": {},
   "outputs": [
    {
     "name": "stdout",
     "output_type": "stream",
     "text": [
      "3.8.12\n"
     ]
    }
   ],
   "source": [
    "from platform import python_version\n",
    "\n",
    "print(python_version())"
   ]
  },
  {
   "cell_type": "code",
   "execution_count": null,
   "id": "16b5e43f",
   "metadata": {},
   "outputs": [],
   "source": []
  }
 ],
 "metadata": {
  "kernelspec": {
   "display_name": "Python 3 (ipykernel)",
   "language": "python",
   "name": "python3"
  },
  "language_info": {
   "codemirror_mode": {
    "name": "ipython",
    "version": 3
   },
   "file_extension": ".py",
   "mimetype": "text/x-python",
   "name": "python",
   "nbconvert_exporter": "python",
   "pygments_lexer": "ipython3",
   "version": "3.8.12"
  }
 },
 "nbformat": 4,
 "nbformat_minor": 5
}
